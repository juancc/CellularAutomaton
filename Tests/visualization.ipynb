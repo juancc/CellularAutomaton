{
 "cells": [
  {
   "cell_type": "markdown",
   "id": "b15ffc6f",
   "metadata": {},
   "source": [
    "# Timestep Visualization"
   ]
  },
  {
   "cell_type": "code",
   "execution_count": 2,
   "id": "ed5b46b3",
   "metadata": {},
   "outputs": [],
   "source": [
    "import sys\n",
    "\n",
    "sys.path.append('/Users/juanca/Repositores/GenerativeDesign/CellularAutomaton')"
   ]
  },
  {
   "cell_type": "code",
   "execution_count": 3,
   "id": "04b31317",
   "metadata": {},
   "outputs": [],
   "source": [
    "# Visualization\n",
    "from CellularAutomaton.codebook import life3d_rule\n",
    "\n",
    "# Automaton\n",
    "import CellularAutomaton.automaton as automaton\n",
    "\n",
    "\n",
    "\n",
    "\n",
    "# 3D shape\n",
    "shape = (100, 100, 100)\n",
    "initial_volume = automaton.initialize_space(shape, prob=0.2)\n",
    "\n",
    "volumes = automaton.evolve_volume(initial_volume, life3d_rule, steps=10)\n",
    "\n"
   ]
  },
  {
   "cell_type": "code",
   "execution_count": null,
   "id": "9166e0d5",
   "metadata": {},
   "outputs": [
    {
     "ename": "KeyboardInterrupt",
     "evalue": "",
     "output_type": "error",
     "traceback": [
      "\u001b[0;31m---------------------------------------------------------------------------\u001b[0m",
      "\u001b[0;31mKeyboardInterrupt\u001b[0m                         Traceback (most recent call last)",
      "Cell \u001b[0;32mIn[4], line 3\u001b[0m\n\u001b[1;32m      1\u001b[0m \u001b[38;5;28;01mfrom\u001b[39;00m\u001b[38;5;250m \u001b[39m\u001b[38;5;21;01mCellularAutomaton\u001b[39;00m\u001b[38;5;21;01m.\u001b[39;00m\u001b[38;5;21;01mvisualization\u001b[39;00m\u001b[38;5;250m \u001b[39m\u001b[38;5;28;01mimport\u001b[39;00m visualize_evolution_voxels\n\u001b[0;32m----> 3\u001b[0m \u001b[43mvisualize_evolution_voxels\u001b[49m\u001b[43m(\u001b[49m\u001b[43mvolumes\u001b[49m\u001b[43m)\u001b[49m\n",
      "File \u001b[0;32m~/Repositores/GenerativeDesign/CellularAutomaton/CellularAutomaton/visualization.py:127\u001b[0m, in \u001b[0;36mvisualize_evolution_voxels\u001b[0;34m(volumes, delay, cmap)\u001b[0m\n\u001b[1;32m    125\u001b[0m     edgecolors \u001b[38;5;241m=\u001b[39m np\u001b[38;5;241m.\u001b[39mfull_like(facecolors, (\u001b[38;5;241m0\u001b[39m, \u001b[38;5;241m0\u001b[39m, \u001b[38;5;241m0\u001b[39m, \u001b[38;5;241m1\u001b[39m))\n\u001b[1;32m    126\u001b[0m     edgecolors[\u001b[38;5;241m.\u001b[39m\u001b[38;5;241m.\u001b[39m\u001b[38;5;241m.\u001b[39m, :\u001b[38;5;241m3\u001b[39m] \u001b[38;5;241m=\u001b[39m \u001b[38;5;241m0\u001b[39m  \u001b[38;5;66;03m# black borders\u001b[39;00m\n\u001b[0;32m--> 127\u001b[0m     \u001b[43max\u001b[49m\u001b[38;5;241;43m.\u001b[39;49m\u001b[43mvoxels\u001b[49m\u001b[43m(\u001b[49m\u001b[43mfilled\u001b[49m\u001b[43m,\u001b[49m\u001b[43m \u001b[49m\u001b[43mfacecolors\u001b[49m\u001b[38;5;241;43m=\u001b[39;49m\u001b[43mfacecolors\u001b[49m\u001b[43m,\u001b[49m\u001b[43m \u001b[49m\u001b[43medgecolors\u001b[49m\u001b[38;5;241;43m=\u001b[39;49m\u001b[43medgecolors\u001b[49m\u001b[43m)\u001b[49m\n\u001b[1;32m    129\u001b[0m display(fig)\n\u001b[1;32m    130\u001b[0m plt\u001b[38;5;241m.\u001b[39mpause(delay)\n",
      "File \u001b[0;32m/opt/homebrew/Caskroom/miniforge/base/envs/generative/lib/python3.10/site-packages/mpl_toolkits/mplot3d/axes3d.py:3548\u001b[0m, in \u001b[0;36mAxes3D.voxels\u001b[0;34m(self, facecolors, edgecolors, shade, lightsource, axlim_clip, *args, **kwargs)\u001b[0m\n\u001b[1;32m   3542\u001b[0m     edgecolor \u001b[38;5;241m=\u001b[39m edgecolors[coord]\n\u001b[1;32m   3544\u001b[0m     poly \u001b[38;5;241m=\u001b[39m art3d\u001b[38;5;241m.\u001b[39mPoly3DCollection(\n\u001b[1;32m   3545\u001b[0m         faces, facecolors\u001b[38;5;241m=\u001b[39mfacecolor, edgecolors\u001b[38;5;241m=\u001b[39medgecolor,\n\u001b[1;32m   3546\u001b[0m         shade\u001b[38;5;241m=\u001b[39mshade, lightsource\u001b[38;5;241m=\u001b[39mlightsource, axlim_clip\u001b[38;5;241m=\u001b[39maxlim_clip,\n\u001b[1;32m   3547\u001b[0m         \u001b[38;5;241m*\u001b[39m\u001b[38;5;241m*\u001b[39mkwargs)\n\u001b[0;32m-> 3548\u001b[0m     \u001b[38;5;28;43mself\u001b[39;49m\u001b[38;5;241;43m.\u001b[39;49m\u001b[43madd_collection3d\u001b[49m\u001b[43m(\u001b[49m\u001b[43mpoly\u001b[49m\u001b[43m)\u001b[49m\n\u001b[1;32m   3549\u001b[0m     polygons[coord] \u001b[38;5;241m=\u001b[39m poly\n\u001b[1;32m   3551\u001b[0m \u001b[38;5;28;01mreturn\u001b[39;00m polygons\n",
      "File \u001b[0;32m/opt/homebrew/Caskroom/miniforge/base/envs/generative/lib/python3.10/site-packages/mpl_toolkits/mplot3d/axes3d.py:2878\u001b[0m, in \u001b[0;36mAxes3D.add_collection3d\u001b[0;34m(self, col, zs, zdir, autolim, axlim_clip)\u001b[0m\n\u001b[1;32m   2875\u001b[0m     \u001b[38;5;28mself\u001b[39m\u001b[38;5;241m.\u001b[39mauto_scale_xyz(\u001b[38;5;241m*\u001b[39mnp\u001b[38;5;241m.\u001b[39marray(col\u001b[38;5;241m.\u001b[39m_segments3d)\u001b[38;5;241m.\u001b[39mtranspose(),\n\u001b[1;32m   2876\u001b[0m                         had_data\u001b[38;5;241m=\u001b[39mhad_data)\n\u001b[1;32m   2877\u001b[0m \u001b[38;5;28;01melif\u001b[39;00m \u001b[38;5;28misinstance\u001b[39m(col, art3d\u001b[38;5;241m.\u001b[39mPoly3DCollection):\n\u001b[0;32m-> 2878\u001b[0m     \u001b[38;5;28;43mself\u001b[39;49m\u001b[38;5;241;43m.\u001b[39;49m\u001b[43mauto_scale_xyz\u001b[49m\u001b[43m(\u001b[49m\u001b[38;5;241;43m*\u001b[39;49m\u001b[43mcol\u001b[49m\u001b[38;5;241;43m.\u001b[39;49m\u001b[43m_vec\u001b[49m\u001b[43m[\u001b[49m\u001b[43m:\u001b[49m\u001b[38;5;241;43m-\u001b[39;49m\u001b[38;5;241;43m1\u001b[39;49m\u001b[43m]\u001b[49m\u001b[43m,\u001b[49m\u001b[43m \u001b[49m\u001b[43mhad_data\u001b[49m\u001b[38;5;241;43m=\u001b[39;49m\u001b[43mhad_data\u001b[49m\u001b[43m)\u001b[49m\n\u001b[1;32m   2879\u001b[0m \u001b[38;5;28;01melif\u001b[39;00m \u001b[38;5;28misinstance\u001b[39m(col, art3d\u001b[38;5;241m.\u001b[39mPatch3DCollection):\n\u001b[1;32m   2880\u001b[0m     \u001b[38;5;28;01mpass\u001b[39;00m\n",
      "File \u001b[0;32m/opt/homebrew/Caskroom/miniforge/base/envs/generative/lib/python3.10/site-packages/mpl_toolkits/mplot3d/axes3d.py:609\u001b[0m, in \u001b[0;36mAxes3D.auto_scale_xyz\u001b[0;34m(self, X, Y, Z, had_data)\u001b[0m\n\u001b[1;32m    607\u001b[0m     \u001b[38;5;28mself\u001b[39m\u001b[38;5;241m.\u001b[39mzz_dataLim\u001b[38;5;241m.\u001b[39mupdate_from_data_x(Z, \u001b[38;5;129;01mnot\u001b[39;00m had_data)\n\u001b[1;32m    608\u001b[0m \u001b[38;5;66;03m# Let autoscale_view figure out how to use this data.\u001b[39;00m\n\u001b[0;32m--> 609\u001b[0m \u001b[38;5;28;43mself\u001b[39;49m\u001b[38;5;241;43m.\u001b[39;49m\u001b[43mautoscale_view\u001b[49m\u001b[43m(\u001b[49m\u001b[43m)\u001b[49m\n",
      "File \u001b[0;32m/opt/homebrew/Caskroom/miniforge/base/envs/generative/lib/python3.10/site-packages/mpl_toolkits/mplot3d/axes3d.py:628\u001b[0m, in \u001b[0;36mAxes3D.autoscale_view\u001b[0;34m(self, tight, scalex, scaley, scalez)\u001b[0m\n\u001b[1;32m    626\u001b[0m \u001b[38;5;28;01mif\u001b[39;00m \u001b[38;5;28misinstance\u001b[39m(artist, mimage\u001b[38;5;241m.\u001b[39mAxesImage):\n\u001b[1;32m    627\u001b[0m     _tight \u001b[38;5;241m=\u001b[39m \u001b[38;5;28;01mTrue\u001b[39;00m\n\u001b[0;32m--> 628\u001b[0m \u001b[38;5;28;01melif\u001b[39;00m \u001b[38;5;28;43misinstance\u001b[39;49m\u001b[43m(\u001b[49m\u001b[43martist\u001b[49m\u001b[43m,\u001b[49m\u001b[43m \u001b[49m\u001b[43m(\u001b[49m\u001b[43mmlines\u001b[49m\u001b[38;5;241;43m.\u001b[39;49m\u001b[43mLine2D\u001b[49m\u001b[43m,\u001b[49m\u001b[43m \u001b[49m\u001b[43mmpatches\u001b[49m\u001b[38;5;241;43m.\u001b[39;49m\u001b[43mPatch\u001b[49m\u001b[43m)\u001b[49m\u001b[43m)\u001b[49m:\n\u001b[1;32m    629\u001b[0m     _tight \u001b[38;5;241m=\u001b[39m \u001b[38;5;28;01mFalse\u001b[39;00m\n\u001b[1;32m    630\u001b[0m     \u001b[38;5;28;01mbreak\u001b[39;00m\n",
      "\u001b[0;31mKeyboardInterrupt\u001b[0m: "
     ]
    }
   ],
   "source": [
    "from CellularAutomaton.visualization import visualize_evolution_voxels\n",
    "\n",
    "visualize_evolution_voxels(volumes)\n"
   ]
  }
 ],
 "metadata": {
  "kernelspec": {
   "display_name": "generative",
   "language": "python",
   "name": "python3"
  },
  "language_info": {
   "codemirror_mode": {
    "name": "ipython",
    "version": 3
   },
   "file_extension": ".py",
   "mimetype": "text/x-python",
   "name": "python",
   "nbconvert_exporter": "python",
   "pygments_lexer": "ipython3",
   "version": "3.10.18"
  }
 },
 "nbformat": 4,
 "nbformat_minor": 5
}
